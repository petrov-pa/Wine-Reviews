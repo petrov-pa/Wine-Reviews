{
 "cells": [
  {
   "cell_type": "markdown",
   "metadata": {
    "id": "upY29W32Fd19"
   },
   "source": [
    "## Wine Reviews"
   ]
  },
  {
   "cell_type": "code",
   "execution_count": null,
   "metadata": {
    "id": "4gWNu3ioMyGG"
   },
   "outputs": [],
   "source": [
    "import pandas as pd\n",
    "import numpy as np\n",
    "import matplotlib.pyplot as plt\n",
    "%matplotlib inline\n",
    "\n",
    "from tensorflow.keras.models import Sequential, Model\n",
    "from tensorflow.keras.layers import Dense, Dropout, BatchNormalization, concatenate, Input\n",
    "from tensorflow.keras.optimizers import Adam, RMSprop, SGD\n",
    "from tensorflow.keras.preprocessing.text import Tokenizer,text_to_word_sequence\n",
    "from tensorflow.keras.callbacks import LambdaCallback\n",
    "from tensorflow.keras import callbacks\n",
    "\n",
    "from google.colab import drive\n",
    "from sklearn.model_selection import train_test_split\n",
    "\n",
    "from sklearn.preprocessing import StandardScaler, MinMaxScaler\n"
   ]
  },
  {
   "cell_type": "code",
   "execution_count": null,
   "metadata": {
    "colab": {
     "base_uri": "https://localhost:8080/"
    },
    "id": "z-WBVaD-XyB0",
    "outputId": "af6df598-adbc-49d3-8d7f-33e6455d7e1b"
   },
   "outputs": [
    {
     "name": "stdout",
     "output_type": "stream",
     "text": [
      "Mounted at /content/drive/\n"
     ]
    }
   ],
   "source": [
    "drive.mount('/content/drive/')"
   ]
  },
  {
   "cell_type": "markdown",
   "metadata": {
    "id": "rO4ueg9fFmyw"
   },
   "source": [
    "Датасет взят с сайта Kaggle https://www.kaggle.com/zynicide/wine-reviews. Набор данных состоит из описания вина, места происхождения, цены и отзыва критика о нем. Изначально я предполагал использовать имеющиеся данные для предсказания цены на вино, но в процессе изучения данных выяснилось что они не совсем для этого подходят. Вторым вариантом было предсказание оценки, которую ставит критик данному вину. Тут проблема заключается в том, что, хоть оценки ставились по 100 бальной шкале, они все лежат в диапазоне от 80 до 100. Возможно, правильнее решать такую задачу с помощью классификации. Тем не менее я попробую проработать оба варианта и посмотреть что получится."
   ]
  },
  {
   "cell_type": "markdown",
   "metadata": {
    "id": "Zy-o7f_WO3--"
   },
   "source": [
    "### Предсказание стоимости вина"
   ]
  },
  {
   "cell_type": "code",
   "execution_count": null,
   "metadata": {
    "id": "MU8gdzJ2VW65"
   },
   "outputs": [],
   "source": [
    "#Прочитаем данные\n",
    "df = pd.read_csv('/content/drive/MyDrive/wine/winemag-data-130k-v2.csv',index_col=0)"
   ]
  },
  {
   "cell_type": "code",
   "execution_count": null,
   "metadata": {
    "colab": {
     "base_uri": "https://localhost:8080/",
     "height": 340
    },
    "id": "Gq0YzIrjVW4M",
    "outputId": "4db7d75d-fd4e-4955-a48d-5475566d1088"
   },
   "outputs": [
    {
     "data": {
      "text/html": [
       "<div>\n",
       "<style scoped>\n",
       "    .dataframe tbody tr th:only-of-type {\n",
       "        vertical-align: middle;\n",
       "    }\n",
       "\n",
       "    .dataframe tbody tr th {\n",
       "        vertical-align: top;\n",
       "    }\n",
       "\n",
       "    .dataframe thead th {\n",
       "        text-align: right;\n",
       "    }\n",
       "</style>\n",
       "<table border=\"1\" class=\"dataframe\">\n",
       "  <thead>\n",
       "    <tr style=\"text-align: right;\">\n",
       "      <th></th>\n",
       "      <th>country</th>\n",
       "      <th>description</th>\n",
       "      <th>designation</th>\n",
       "      <th>points</th>\n",
       "      <th>price</th>\n",
       "      <th>province</th>\n",
       "      <th>region_1</th>\n",
       "      <th>region_2</th>\n",
       "      <th>taster_name</th>\n",
       "      <th>taster_twitter_handle</th>\n",
       "      <th>title</th>\n",
       "      <th>variety</th>\n",
       "      <th>winery</th>\n",
       "    </tr>\n",
       "  </thead>\n",
       "  <tbody>\n",
       "    <tr>\n",
       "      <th>0</th>\n",
       "      <td>Italy</td>\n",
       "      <td>Aromas include tropical fruit, broom, brimston...</td>\n",
       "      <td>Vulkà Bianco</td>\n",
       "      <td>87</td>\n",
       "      <td>NaN</td>\n",
       "      <td>Sicily &amp; Sardinia</td>\n",
       "      <td>Etna</td>\n",
       "      <td>NaN</td>\n",
       "      <td>Kerin O’Keefe</td>\n",
       "      <td>@kerinokeefe</td>\n",
       "      <td>Nicosia 2013 Vulkà Bianco  (Etna)</td>\n",
       "      <td>White Blend</td>\n",
       "      <td>Nicosia</td>\n",
       "    </tr>\n",
       "    <tr>\n",
       "      <th>1</th>\n",
       "      <td>Portugal</td>\n",
       "      <td>This is ripe and fruity, a wine that is smooth...</td>\n",
       "      <td>Avidagos</td>\n",
       "      <td>87</td>\n",
       "      <td>15.0</td>\n",
       "      <td>Douro</td>\n",
       "      <td>NaN</td>\n",
       "      <td>NaN</td>\n",
       "      <td>Roger Voss</td>\n",
       "      <td>@vossroger</td>\n",
       "      <td>Quinta dos Avidagos 2011 Avidagos Red (Douro)</td>\n",
       "      <td>Portuguese Red</td>\n",
       "      <td>Quinta dos Avidagos</td>\n",
       "    </tr>\n",
       "    <tr>\n",
       "      <th>2</th>\n",
       "      <td>US</td>\n",
       "      <td>Tart and snappy, the flavors of lime flesh and...</td>\n",
       "      <td>NaN</td>\n",
       "      <td>87</td>\n",
       "      <td>14.0</td>\n",
       "      <td>Oregon</td>\n",
       "      <td>Willamette Valley</td>\n",
       "      <td>Willamette Valley</td>\n",
       "      <td>Paul Gregutt</td>\n",
       "      <td>@paulgwine</td>\n",
       "      <td>Rainstorm 2013 Pinot Gris (Willamette Valley)</td>\n",
       "      <td>Pinot Gris</td>\n",
       "      <td>Rainstorm</td>\n",
       "    </tr>\n",
       "    <tr>\n",
       "      <th>3</th>\n",
       "      <td>US</td>\n",
       "      <td>Pineapple rind, lemon pith and orange blossom ...</td>\n",
       "      <td>Reserve Late Harvest</td>\n",
       "      <td>87</td>\n",
       "      <td>13.0</td>\n",
       "      <td>Michigan</td>\n",
       "      <td>Lake Michigan Shore</td>\n",
       "      <td>NaN</td>\n",
       "      <td>Alexander Peartree</td>\n",
       "      <td>NaN</td>\n",
       "      <td>St. Julian 2013 Reserve Late Harvest Riesling ...</td>\n",
       "      <td>Riesling</td>\n",
       "      <td>St. Julian</td>\n",
       "    </tr>\n",
       "    <tr>\n",
       "      <th>4</th>\n",
       "      <td>US</td>\n",
       "      <td>Much like the regular bottling from 2012, this...</td>\n",
       "      <td>Vintner's Reserve Wild Child Block</td>\n",
       "      <td>87</td>\n",
       "      <td>65.0</td>\n",
       "      <td>Oregon</td>\n",
       "      <td>Willamette Valley</td>\n",
       "      <td>Willamette Valley</td>\n",
       "      <td>Paul Gregutt</td>\n",
       "      <td>@paulgwine</td>\n",
       "      <td>Sweet Cheeks 2012 Vintner's Reserve Wild Child...</td>\n",
       "      <td>Pinot Noir</td>\n",
       "      <td>Sweet Cheeks</td>\n",
       "    </tr>\n",
       "  </tbody>\n",
       "</table>\n",
       "</div>"
      ],
      "text/plain": [
       "    country  ...               winery\n",
       "0     Italy  ...              Nicosia\n",
       "1  Portugal  ...  Quinta dos Avidagos\n",
       "2        US  ...            Rainstorm\n",
       "3        US  ...           St. Julian\n",
       "4        US  ...         Sweet Cheeks\n",
       "\n",
       "[5 rows x 13 columns]"
      ]
     },
     "execution_count": 4,
     "metadata": {
      "tags": []
     },
     "output_type": "execute_result"
    }
   ],
   "source": [
    "df.head()"
   ]
  },
  {
   "cell_type": "code",
   "execution_count": null,
   "metadata": {
    "colab": {
     "base_uri": "https://localhost:8080/"
    },
    "id": "MXWZC7l2VW1r",
    "outputId": "96c6daec-5b76-411a-acd1-9d6e243e620f"
   },
   "outputs": [
    {
     "name": "stdout",
     "output_type": "stream",
     "text": [
      "<class 'pandas.core.frame.DataFrame'>\n",
      "Int64Index: 129971 entries, 0 to 129970\n",
      "Data columns (total 13 columns):\n",
      " #   Column                 Non-Null Count   Dtype  \n",
      "---  ------                 --------------   -----  \n",
      " 0   country                129908 non-null  object \n",
      " 1   description            129971 non-null  object \n",
      " 2   designation            92506 non-null   object \n",
      " 3   points                 129971 non-null  int64  \n",
      " 4   price                  120975 non-null  float64\n",
      " 5   province               129908 non-null  object \n",
      " 6   region_1               108724 non-null  object \n",
      " 7   region_2               50511 non-null   object \n",
      " 8   taster_name            103727 non-null  object \n",
      " 9   taster_twitter_handle  98758 non-null   object \n",
      " 10  title                  129971 non-null  object \n",
      " 11  variety                129970 non-null  object \n",
      " 12  winery                 129971 non-null  object \n",
      "dtypes: float64(1), int64(1), object(11)\n",
      "memory usage: 13.9+ MB\n"
     ]
    }
   ],
   "source": [
    "#Посмотрим на данные\n",
    "df.info()"
   ]
  },
  {
   "cell_type": "code",
   "execution_count": null,
   "metadata": {
    "id": "cg2klptwfgWz"
   },
   "outputs": [],
   "source": [
    "#Удалим все строки в которых отсутствует цена (их не так много)\n",
    "index_drop = df.loc[df.price != df.price].index\n",
    "df.drop(index_drop, inplace=True)\n",
    "#Большая часть цен лежит в диапозоне до 500 доларов. Я решил удалить строки, которые выше по цене, чтобы избежать выбросов в данных и улучшить визуализацию\n",
    "df = df.loc[df.price < 500]\n",
    "df.reset_index(inplace=True)"
   ]
  },
  {
   "cell_type": "code",
   "execution_count": null,
   "metadata": {
    "colab": {
     "base_uri": "https://localhost:8080/"
    },
    "id": "5-f5ChmvVWz-",
    "outputId": "5efeb6ca-9afc-4b61-96a4-8c2a9eaa3515"
   },
   "outputs": [
    {
     "name": "stdout",
     "output_type": "stream",
     "text": [
      "<class 'pandas.core.frame.DataFrame'>\n",
      "RangeIndex: 120870 entries, 0 to 120869\n",
      "Data columns (total 14 columns):\n",
      " #   Column                 Non-Null Count   Dtype  \n",
      "---  ------                 --------------   -----  \n",
      " 0   index                  120870 non-null  int64  \n",
      " 1   country                120811 non-null  object \n",
      " 2   description            120870 non-null  object \n",
      " 3   designation            86138 non-null   object \n",
      " 4   points                 120870 non-null  int64  \n",
      " 5   price                  120870 non-null  float64\n",
      " 6   province               120811 non-null  object \n",
      " 7   region_1               101313 non-null  object \n",
      " 8   region_2               50285 non-null   object \n",
      " 9   taster_name            96380 non-null   object \n",
      " 10  taster_twitter_handle  91468 non-null   object \n",
      " 11  title                  120870 non-null  object \n",
      " 12  variety                120869 non-null  object \n",
      " 13  winery                 120870 non-null  object \n",
      "dtypes: float64(1), int64(2), object(11)\n",
      "memory usage: 12.9+ MB\n"
     ]
    }
   ],
   "source": [
    "#Датасет после удаления данных\n",
    "df.info()"
   ]
  },
  {
   "cell_type": "code",
   "execution_count": null,
   "metadata": {
    "id": "N14fJ_LthSjh"
   },
   "outputs": [],
   "source": [
    "#Создадим новый датафрейм в который будем записывать распарсенные данные\n",
    "df_new=pd.DataFrame()"
   ]
  },
  {
   "cell_type": "code",
   "execution_count": null,
   "metadata": {
    "id": "i6Cwc8R2hSg_"
   },
   "outputs": [],
   "source": [
    "#Заполним недостающие данные самой частой категорией и поменем текст на цифры\n",
    "df['country'].fillna('US', inplace=True) \n",
    "uniq_country = df['country'].unique()\n",
    "dict_country = dict(zip(uniq_country, range(len(uniq_country))))\n",
    "df_new['country'] = df['country'].map(dict_country).values"
   ]
  },
  {
   "cell_type": "code",
   "execution_count": null,
   "metadata": {
    "id": "pBFG73XDj8so"
   },
   "outputs": [],
   "source": [
    "#Столбец designation распрсим следующим образом. \n",
    "#0 - если в обозначении нет слова Reserve\n",
    "#1 - есть слово Reserve\n",
    "#Предполагаю, что вино Reserve должно стоить больше\n",
    "reserve = []\n",
    "for i in df['designation']:\n",
    "  if str(i) == 'nan':\n",
    "    reserve.append(0)  \n",
    "  elif 'Reserve' in i:\n",
    "    reserve.append(1)\n",
    "  else:\n",
    "    reserve.append(0)\n",
    "\n",
    "df_new['reserve'] = reserve"
   ]
  },
  {
   "cell_type": "code",
   "execution_count": null,
   "metadata": {
    "id": "PZ1Orlw_mtGb"
   },
   "outputs": [],
   "source": [
    "# Points запишем как есть и закодируем в дальнейшем с помощью OneHotEncoding\n",
    "df_new['points'] = df['points']"
   ]
  },
  {
   "cell_type": "code",
   "execution_count": null,
   "metadata": {
    "id": "OgQiSqMHvzzP"
   },
   "outputs": [],
   "source": [
    "#Заполним недостающие данные категорией NA и поменем текст на цифры\n",
    "df['variety'].fillna('NA', inplace=True) \n",
    "uniq_variety = df['variety'].unique()\n",
    "dict_variety = dict(zip(uniq_variety, range(len(uniq_variety))))\n",
    "df_new['variety'] = df['variety'].map(dict_variety).values"
   ]
  },
  {
   "cell_type": "code",
   "execution_count": null,
   "metadata": {
    "id": "WLUkBRIwwl6_"
   },
   "outputs": [],
   "source": [
    "#Закодируем категориальные данные с помощью OneHotEncoding\n",
    "x_data = pd.get_dummies(df_new, columns = ['country',\t'reserve', 'points', 'variety'])"
   ]
  },
  {
   "cell_type": "code",
   "execution_count": null,
   "metadata": {
    "id": "KQ1arWj5qaiS"
   },
   "outputs": [],
   "source": [
    "#Заполним недостающие данные категорией No\n",
    "x_data['description'] = df['description']\n",
    "for i, j in enumerate(x_data['description']):\n",
    "  try: j.lower()\n",
    "  except: x_data.loc[i,'description'] = 'No'\n"
   ]
  },
  {
   "cell_type": "markdown",
   "metadata": {
    "id": "tqvqTwiVS693"
   },
   "source": [
    "Столбцы region_1, region_2, winery не будем рассматривать так как они содержат очень много различных данных и возможно излишни.\n",
    "Столбец taster_twitter_handle, taster_name содержат информацию, которая не влияет на цену.\n",
    "Столбец title повторяет designation."
   ]
  },
  {
   "cell_type": "code",
   "execution_count": null,
   "metadata": {
    "colab": {
     "base_uri": "https://localhost:8080/",
     "height": 282
    },
    "id": "YNDcctFP7KWM",
    "outputId": "933fa34a-c07a-47bd-ae70-bf65156a1c40"
   },
   "outputs": [
    {
     "data": {
      "text/plain": [
       "<matplotlib.axes._subplots.AxesSubplot at 0x7faf24f7cbe0>"
      ]
     },
     "execution_count": 20,
     "metadata": {
      "tags": []
     },
     "output_type": "execute_result"
    },
    {
     "data": {
      "image/png": "[encoded data removed]",
      "text/plain": [
       "<Figure size 432x288 with 1 Axes>"
      ]
     },
     "metadata": {
      "tags": []
     },
     "output_type": "display_data"
    }
   ],
   "source": [
    "#Посмотрим на распределение данных о цене\n",
    "df['price'].hist()\n",
    "#Распределение похоже на экспоненциальное"
   ]
  },
  {
   "cell_type": "code",
   "execution_count": null,
   "metadata": {
    "id": "NklmHsXAe6QQ"
   },
   "outputs": [],
   "source": [
    "#Попробуем логорифмировать цену, чтобы приблизить его к нормальному\n",
    "logg = []\n",
    "for i in df['price']:\n",
    "  logg.append(np.log(i))\n",
    "\n",
    "x_data['y_scale'] = logg"
   ]
  },
  {
   "cell_type": "code",
   "execution_count": null,
   "metadata": {
    "colab": {
     "base_uri": "https://localhost:8080/",
     "height": 367
    },
    "id": "7Uy7kug-I697",
    "outputId": "2aed5f8a-2ec5-4385-9857-e8db9f6170ed"
   },
   "outputs": [
    {
     "data": {
      "text/plain": [
       "(array([  177.,  6103., 25422., 32473., 27994., 19700.,  6430.,  1856.,\n",
       "          515.,   200.]),\n",
       " array([1.38629436, 1.86892553, 2.35155671, 2.83418788, 3.31681905,\n",
       "        3.79945023, 4.2820814 , 4.76471258, 5.24734375, 5.72997492,\n",
       "        6.2126061 ]),\n",
       " <a list of 10 Patch objects>)"
      ]
     },
     "execution_count": 22,
     "metadata": {
      "tags": []
     },
     "output_type": "execute_result"
    },
    {
     "data": {
      "image/png": "[encoded data removed]",
      "text/plain": [
       "<Figure size 432x288 with 1 Axes>"
      ]
     },
     "metadata": {
      "tags": []
     },
     "output_type": "display_data"
    }
   ],
   "source": [
    "plt.hist(x_data['y_scale'])\n",
    "#Как видим, задумка удалась"
   ]
  },
  {
   "cell_type": "code",
   "execution_count": null,
   "metadata": {
    "id": "cxf0Tj_YyC3l"
   },
   "outputs": [],
   "source": [
    "#Разделим выборку на обучающую и проверочную\n",
    "x_train, x_test, y_train, y_test = train_test_split(x_data.iloc[:,:-1], x_data.y_scale, shuffle=True, test_size=0.2)"
   ]
  },
  {
   "cell_type": "code",
   "execution_count": null,
   "metadata": {
    "id": "_yzKZGXoyC3-"
   },
   "outputs": [],
   "source": [
    "# Отделим текстовые данные\n",
    "x_train_numeric = x_train.iloc[:,:-1]\n",
    "x_train_word = x_train.iloc[:,-1].values\n",
    "\n",
    "x_test_numeric = x_test.iloc[:,:-1]\n",
    "x_test_word = x_test.iloc[:,-1].values"
   ]
  },
  {
   "cell_type": "code",
   "execution_count": null,
   "metadata": {
    "id": "IAAVR9v6yC3_"
   },
   "outputs": [],
   "source": [
    "#Создадим словарь и распарсим текстовые данные при помощи мешка слов\n",
    "max_word=3000\n",
    "tokenizer = Tokenizer(max_word, filters='!\"#$%&()*+,-./:;<=>?@[\\\\]^_`{|}~\\t\\n', lower=True, split=' ', char_level=False, oov_token='Unknown')\n",
    "tokenizer.fit_on_texts(x_train_word)\n",
    "\n",
    "x_train_vec = tokenizer.texts_to_matrix(x_train_word)\n",
    "x_test_vec = tokenizer.texts_to_matrix(x_test_word)"
   ]
  },
  {
   "cell_type": "code",
   "execution_count": null,
   "metadata": {
    "id": "9CNXzokd9jvF"
   },
   "outputs": [],
   "source": [
    "#Функция возвращает среднюю абсолютную ошибку и график scatter plot\n",
    "def mae_scatter_price(model, data):\n",
    "  pred = model.predict(data) \n",
    "  exp_pred = np.exp(pred).flatten()\n",
    "  exp_test = np.exp(y_test)\n",
    "\n",
    "  dif = exp_test.values-exp_pred\n",
    "  abs_dif = abs(dif)\n",
    "  sum_dif = sum(abs_dif)\n",
    "  print(\"MAE: \", sum_dif / len(exp_test))\n",
    "\n",
    "  plt.scatter(exp_pred, exp_test)\n",
    "  plt.xlabel('Предсказаная цена, тыс.руб.')\n",
    "  plt.ylabel('Настоящая цена, тыс.руб.')\n",
    "  plt.plot([0, 500], [0, 500])"
   ]
  },
  {
   "cell_type": "code",
   "execution_count": null,
   "metadata": {
    "colab": {
     "base_uri": "https://localhost:8080/"
    },
    "id": "5eDjUwlf-4qr",
    "outputId": "789f1d73-d4e8-4e0f-cb15-021061459268"
   },
   "outputs": [
    {
     "name": "stdout",
     "output_type": "stream",
     "text": [
      "MAE:  17.810829817158933\n"
     ]
    }
   ],
   "source": [
    "# Так как оценивать качество модели мы будем метрикой MAE, в качестве отправной точки можно использовать медианное значение тестовой выборки. \n",
    "# Посмотрим какое MAE получится, если вместо предсказанных значений подставить медиану\n",
    "exp_test = np.exp(y_test)\n",
    "dif = exp_test.values-np.median(exp_test)\n",
    "abs_dif = abs(dif)\n",
    "sum_dif = sum(abs_dif)\n",
    "print(\"MAE: \", sum_dif / len(exp_test))"
   ]
  },
  {
   "cell_type": "markdown",
   "metadata": {
    "id": "ngbY3KurW7jZ"
   },
   "source": [
    "Посмотрим насколько наша модель сможет превзойти это значение"
   ]
  },
  {
   "cell_type": "code",
   "execution_count": null,
   "metadata": {
    "colab": {
     "base_uri": "https://localhost:8080/"
    },
    "id": "2no6M7UFwavj",
    "outputId": "00b82fc5-fb9b-4b93-93a2-9f024938985a"
   },
   "outputs": [
    {
     "name": "stdout",
     "output_type": "stream",
     "text": [
      "Epoch 1/20\n",
      "378/378 [==============================] - 4s 9ms/step - loss: 1.6069 - mae: 0.8176 - val_loss: 0.1885 - val_mae: 0.3367\n",
      "Epoch 2/20\n",
      "378/378 [==============================] - 3s 9ms/step - loss: 0.1819 - mae: 0.3283 - val_loss: 0.1830 - val_mae: 0.3285\n",
      "Epoch 3/20\n",
      "378/378 [==============================] - 3s 8ms/step - loss: 0.1745 - mae: 0.3207 - val_loss: 0.1811 - val_mae: 0.3275\n",
      "Epoch 4/20\n",
      "378/378 [==============================] - 3s 9ms/step - loss: 0.1719 - mae: 0.3184 - val_loss: 0.1820 - val_mae: 0.3298\n",
      "Epoch 5/20\n",
      "378/378 [==============================] - 3s 9ms/step - loss: 0.1717 - mae: 0.3175 - val_loss: 0.1810 - val_mae: 0.3264\n",
      "Epoch 6/20\n",
      "378/378 [==============================] - 3s 8ms/step - loss: 0.1692 - mae: 0.3156 - val_loss: 0.1825 - val_mae: 0.3300\n",
      "Epoch 7/20\n",
      "378/378 [==============================] - 3s 8ms/step - loss: 0.1707 - mae: 0.3168 - val_loss: 0.1806 - val_mae: 0.3275\n",
      "Epoch 8/20\n",
      "378/378 [==============================] - 4s 11ms/step - loss: 0.1685 - mae: 0.3141 - val_loss: 0.1804 - val_mae: 0.3288\n",
      "Epoch 9/20\n",
      "378/378 [==============================] - 4s 9ms/step - loss: 0.1688 - mae: 0.3142 - val_loss: 0.1815 - val_mae: 0.3268\n",
      "Epoch 10/20\n",
      "378/378 [==============================] - 4s 11ms/step - loss: 0.1687 - mae: 0.3135 - val_loss: 0.1807 - val_mae: 0.3283\n",
      "Epoch 11/20\n",
      "378/378 [==============================] - 4s 10ms/step - loss: 0.1718 - mae: 0.3166 - val_loss: 0.1841 - val_mae: 0.3262\n",
      "Epoch 12/20\n",
      "378/378 [==============================] - 4s 12ms/step - loss: 0.1689 - mae: 0.3140 - val_loss: 0.1824 - val_mae: 0.3266\n",
      "Epoch 13/20\n",
      "378/378 [==============================] - 3s 9ms/step - loss: 0.1682 - mae: 0.3128 - val_loss: 0.1827 - val_mae: 0.3309\n",
      "Epoch 14/20\n",
      "378/378 [==============================] - 4s 9ms/step - loss: 0.1679 - mae: 0.3128 - val_loss: 0.1810 - val_mae: 0.3262\n",
      "Epoch 15/20\n",
      "378/378 [==============================] - 3s 8ms/step - loss: 0.1678 - mae: 0.3126 - val_loss: 0.1805 - val_mae: 0.3267\n",
      "Epoch 16/20\n",
      "378/378 [==============================] - 3s 9ms/step - loss: 0.1661 - mae: 0.3112 - val_loss: 0.1816 - val_mae: 0.3253\n",
      "Epoch 17/20\n",
      "378/378 [==============================] - 3s 8ms/step - loss: 0.1658 - mae: 0.3104 - val_loss: 0.1802 - val_mae: 0.3264\n",
      "Epoch 18/20\n",
      "378/378 [==============================] - 3s 9ms/step - loss: 0.1663 - mae: 0.3112 - val_loss: 0.1888 - val_mae: 0.3307\n",
      "Epoch 19/20\n",
      "378/378 [==============================] - 3s 8ms/step - loss: 0.1673 - mae: 0.3120 - val_loss: 0.1792 - val_mae: 0.3253\n",
      "Epoch 20/20\n",
      "378/378 [==============================] - 3s 8ms/step - loss: 0.1660 - mae: 0.3102 - val_loss: 0.1813 - val_mae: 0.3273\n"
     ]
    },
    {
     "data": {
      "text/plain": [
       "<tensorflow.python.keras.callbacks.History at 0x7faf2244f710>"
      ]
     },
     "execution_count": 33,
     "metadata": {
      "tags": []
     },
     "output_type": "execute_result"
    }
   ],
   "source": [
    "#Модель только с числовыми значениями\n",
    "model_num=Sequential()\n",
    "model_num.add(Dense(200, activation=\"relu\", input_dim=x_train_numeric.shape[1]))\n",
    "model_num.add(Dense(100, activation=\"relu\"))\n",
    "model_num.add(Dense(1, activation=\"linear\"))\n",
    "model_num.compile(loss='mse', optimizer=Adam(lr=0.001), metrics=['mae'])\n",
    "model_num.fit(x_train_numeric.values, y_train.values, epochs=20, batch_size=256, validation_data=(x_test_numeric.values, y_test.values), verbose=1)\n",
    "\n",
    "# model_num.compile(loss='mse', optimizer=SGD(lr=0.001), metrics=['mae'])\n",
    "# model_num.fit(x_train_numeric.values, y_train.values, epochs=20, batch_size=256, validation_data=(x_test_numeric.values, y_test.values), verbose=1)"
   ]
  },
  {
   "cell_type": "code",
   "execution_count": null,
   "metadata": {
    "colab": {
     "base_uri": "https://localhost:8080/",
     "height": 296
    },
    "id": "b4vrNfwb-GNg",
    "outputId": "5ecfa24f-c749-4919-a7f7-8f60d48446ca"
   },
   "outputs": [
    {
     "name": "stdout",
     "output_type": "stream",
     "text": [
      "MAE:  11.999575991897634\n"
     ]
    },
    {
     "data": {
      "image/png": "[encoded data removed]",
      "text/plain": [
       "<Figure size 432x288 with 1 Axes>"
      ]
     },
     "metadata": {
      "tags": []
     },
     "output_type": "display_data"
    }
   ],
   "source": [
    "mae_scatter_price(model_num, x_test_numeric, 0, 500)"
   ]
  },
  {
   "cell_type": "code",
   "execution_count": null,
   "metadata": {
    "colab": {
     "base_uri": "https://localhost:8080/"
    },
    "id": "UIhLbrbx1wo8",
    "outputId": "586d232a-7289-4c71-ea1a-aa3493d324ec"
   },
   "outputs": [
    {
     "name": "stdout",
     "output_type": "stream",
     "text": [
      "Epoch 1/20\n",
      "378/378 [==============================] - 16s 42ms/step - loss: 0.2719 - mae: 0.4082 - val_loss: 0.2702 - val_mae: 0.4012\n",
      "Epoch 2/20\n",
      "378/378 [==============================] - 16s 42ms/step - loss: 0.2743 - mae: 0.4083 - val_loss: 0.2705 - val_mae: 0.4011\n",
      "Epoch 3/20\n",
      "378/378 [==============================] - 16s 41ms/step - loss: 0.2716 - mae: 0.4076 - val_loss: 0.2661 - val_mae: 0.3992\n",
      "Epoch 4/20\n",
      "378/378 [==============================] - 16s 41ms/step - loss: 0.2678 - mae: 0.4039 - val_loss: 0.2663 - val_mae: 0.3988\n",
      "Epoch 5/20\n",
      "378/378 [==============================] - 16s 41ms/step - loss: 0.2688 - mae: 0.4053 - val_loss: 0.2635 - val_mae: 0.3977\n",
      "Epoch 6/20\n",
      "378/378 [==============================] - 16s 41ms/step - loss: 0.2664 - mae: 0.4033 - val_loss: 0.2645 - val_mae: 0.3972\n",
      "Epoch 7/20\n",
      "378/378 [==============================] - 16s 42ms/step - loss: 0.2667 - mae: 0.4032 - val_loss: 0.2640 - val_mae: 0.3968\n",
      "Epoch 8/20\n",
      "378/378 [==============================] - 16s 42ms/step - loss: 0.2664 - mae: 0.4042 - val_loss: 0.2610 - val_mae: 0.3957\n",
      "Epoch 9/20\n",
      "378/378 [==============================] - 16s 42ms/step - loss: 0.2680 - mae: 0.4043 - val_loss: 0.2627 - val_mae: 0.3957\n",
      "Epoch 10/20\n",
      "378/378 [==============================] - 16s 42ms/step - loss: 0.2613 - mae: 0.3988 - val_loss: 0.2602 - val_mae: 0.3945\n",
      "Epoch 11/20\n",
      "378/378 [==============================] - 16s 42ms/step - loss: 0.2600 - mae: 0.3976 - val_loss: 0.2620 - val_mae: 0.3946\n",
      "Epoch 12/20\n",
      "378/378 [==============================] - 16s 42ms/step - loss: 0.2604 - mae: 0.3979 - val_loss: 0.2610 - val_mae: 0.3940\n",
      "Epoch 13/20\n",
      "378/378 [==============================] - 16s 42ms/step - loss: 0.2581 - mae: 0.3959 - val_loss: 0.2576 - val_mae: 0.3929\n",
      "Epoch 14/20\n",
      "378/378 [==============================] - 16s 42ms/step - loss: 0.2596 - mae: 0.3977 - val_loss: 0.2582 - val_mae: 0.3926\n",
      "Epoch 15/20\n",
      "378/378 [==============================] - 16s 42ms/step - loss: 0.2588 - mae: 0.3969 - val_loss: 0.2570 - val_mae: 0.3920\n",
      "Epoch 16/20\n",
      "378/378 [==============================] - 16s 42ms/step - loss: 0.2590 - mae: 0.3975 - val_loss: 0.2595 - val_mae: 0.3925\n",
      "Epoch 17/20\n",
      "378/378 [==============================] - 16s 42ms/step - loss: 0.2576 - mae: 0.3970 - val_loss: 0.2584 - val_mae: 0.3918\n",
      "Epoch 18/20\n",
      "378/378 [==============================] - 16s 42ms/step - loss: 0.2550 - mae: 0.3945 - val_loss: 0.2551 - val_mae: 0.3906\n",
      "Epoch 19/20\n",
      "378/378 [==============================] - 16s 42ms/step - loss: 0.2516 - mae: 0.3920 - val_loss: 0.2568 - val_mae: 0.3906\n",
      "Epoch 20/20\n",
      "378/378 [==============================] - 16s 41ms/step - loss: 0.2557 - mae: 0.3937 - val_loss: 0.2573 - val_mae: 0.3906\n"
     ]
    },
    {
     "data": {
      "text/plain": [
       "<tensorflow.python.keras.callbacks.History at 0x7f9d12047198>"
      ]
     },
     "execution_count": 37,
     "metadata": {
      "tags": []
     },
     "output_type": "execute_result"
    }
   ],
   "source": [
    "#Модель только с текстовыми значениями\n",
    "input_vec = Input(x_train_vec.shape[1],)\n",
    "x = Dense(500, activation='relu')(input_vec)\n",
    "x = Dropout(0.2)(x)\n",
    "# x = BatchNormalization()(x)\n",
    "x = Dense(100, activation='relu')(x)\n",
    "x = Dense(50, activation='relu')(x)\n",
    "x = BatchNormalization()(x)\n",
    "output = Dense(1)(x)\n",
    "model_vec = Model(input_vec,output)\n",
    "\n",
    "model_vec.compile(loss='mse', optimizer=SGD(lr=0.001), metrics=['mae'])\n",
    "model_vec.fit(x_train_vec, y_train, epochs=20, batch_size=256, validation_data=(x_test_vec, y_test), verbose=1)"
   ]
  },
  {
   "cell_type": "code",
   "execution_count": null,
   "metadata": {
    "colab": {
     "base_uri": "https://localhost:8080/",
     "height": 313
    },
    "id": "_b6fUF-LeOWr",
    "outputId": "a53311c6-cb18-4cde-ef31-2f49efa257d7"
   },
   "outputs": [
    {
     "name": "stdout",
     "output_type": "stream",
     "text": [
      "MAE:  14.429900817187812\n"
     ]
    },
    {
     "data": {
      "text/plain": [
       "[<matplotlib.lines.Line2D at 0x7f59be7f8a20>]"
      ]
     },
     "execution_count": 95,
     "metadata": {
      "tags": []
     },
     "output_type": "execute_result"
    },
    {
     "data": {
      "image/png": "[encoded data removed]",
      "text/plain": [
       "<Figure size 432x288 with 1 Axes>"
      ]
     },
     "metadata": {
      "tags": []
     },
     "output_type": "display_data"
    }
   ],
   "source": [
    "mae_scatter_price(model_vec, x_test_vec, 0, 500)"
   ]
  },
  {
   "cell_type": "code",
   "execution_count": null,
   "metadata": {
    "colab": {
     "base_uri": "https://localhost:8080/"
    },
    "id": "rSoA6hRJhSRB",
    "outputId": "0fc168d0-9c0b-4379-a355-c50d36a9574f"
   },
   "outputs": [
    {
     "name": "stdout",
     "output_type": "stream",
     "text": [
      "Epoch 1/5\n",
      "378/378 [==============================] - 23s 59ms/step - loss: 2.6665e-04 - mae: 0.0119 - val_loss: 0.1432 - val_mae: 0.2725\n",
      "Epoch 2/5\n",
      "378/378 [==============================] - 22s 58ms/step - loss: 1.6495e-04 - mae: 0.0091 - val_loss: 0.1432 - val_mae: 0.2723\n",
      "Epoch 3/5\n",
      "378/378 [==============================] - 22s 58ms/step - loss: 1.1800e-04 - mae: 0.0074 - val_loss: 0.1432 - val_mae: 0.2721\n",
      "Epoch 4/5\n",
      "378/378 [==============================] - 22s 59ms/step - loss: 8.0216e-05 - mae: 0.0061 - val_loss: 0.1431 - val_mae: 0.2719\n",
      "Epoch 5/5\n",
      "378/378 [==============================] - 22s 59ms/step - loss: 6.9585e-05 - mae: 0.0051 - val_loss: 0.1432 - val_mae: 0.2719\n"
     ]
    },
    {
     "data": {
      "text/plain": [
       "<tensorflow.python.keras.callbacks.History at 0x7f9d125d93c8>"
      ]
     },
     "execution_count": 33,
     "metadata": {
      "tags": []
     },
     "output_type": "execute_result"
    }
   ],
   "source": [
    "#Модель со всеми значениями\n",
    "input_num = Input(x_train_numeric.shape[1],)\n",
    "input_vec = Input(x_train_vec.shape[1],)\n",
    "x1 = Dense(200, activation='relu')(input_num)\n",
    "x2 = Dense(500, activation='relu')(input_vec)\n",
    "\n",
    "x = concatenate([x1,x2])\n",
    "\n",
    "x = Dense(100, activation='relu')(x)\n",
    "x = Dense(50, activation='relu')(x)\n",
    "\n",
    "# x = Dense(20, activation='relu')(x)\n",
    "# x = Dropout(0.2)(x)\n",
    "# x = BatchNormalization()(x)\n",
    "output = Dense(1)(x)\n",
    "model = Model((input_num,input_vec),output)\n",
    "\n",
    "model.compile(loss='mse', optimizer=Adam(lr=0.001), metrics=['mae'])\n",
    "model.fit([x_train_numeric, x_train_vec], y_train, epochs=10, batch_size=256, validation_data=([x_test_numeric,x_test_vec], y_test), verbose=1)\n",
    "\n",
    "model.compile(loss='mse', optimizer=Adam(lr=0.00001), metrics=['mae'])\n",
    "model.fit([x_train_numeric, x_train_vec], y_train, epochs=5, batch_size=256, validation_data=([x_test_numeric,x_test_vec], y_test), verbose=1)"
   ]
  },
  {
   "cell_type": "code",
   "execution_count": null,
   "metadata": {
    "colab": {
     "base_uri": "https://localhost:8080/",
     "height": 313
    },
    "id": "Xomsxng5lhYz",
    "outputId": "08b0aabf-e7dd-4e7a-d8c3-b2b0b2d6725f"
   },
   "outputs": [
    {
     "name": "stdout",
     "output_type": "stream",
     "text": [
      "MAE:  10.288596384300629\n"
     ]
    },
    {
     "data": {
      "text/plain": [
       "[<matplotlib.lines.Line2D at 0x7f9d1b014080>]"
      ]
     },
     "execution_count": 34,
     "metadata": {
      "tags": []
     },
     "output_type": "execute_result"
    },
    {
     "data": {
      "image/png": "[encoded data removed]",
      "text/plain": [
       "<Figure size 432x288 with 1 Axes>"
      ]
     },
     "metadata": {
      "tags": []
     },
     "output_type": "display_data"
    }
   ],
   "source": [
    "mae_scatter_price(model, [x_test_numeric, x_test_vec], 0, 500)"
   ]
  },
  {
   "cell_type": "markdown",
   "metadata": {
    "id": "1qHF8WkeXbHD"
   },
   "source": [
    "Результат не очень хороший, но заметно лучше константного значения"
   ]
  },
  {
   "cell_type": "markdown",
   "metadata": {
    "id": "UY_VWgeeXik7"
   },
   "source": [
    "###Предсказание оценки критиков"
   ]
  },
  {
   "cell_type": "code",
   "execution_count": null,
   "metadata": {
    "id": "rBVyOtoXYWqY"
   },
   "outputs": [],
   "source": [
    "df = pd.read_csv('/content/drive/MyDrive/wine/winemag-data-130k-v2.csv',index_col=0)"
   ]
  },
  {
   "cell_type": "code",
   "execution_count": null,
   "metadata": {
    "colab": {
     "base_uri": "https://localhost:8080/"
    },
    "id": "WIH-lu1gYXPB",
    "outputId": "4430f147-8e8b-4303-f6f8-61dbd3c7663e"
   },
   "outputs": [
    {
     "name": "stdout",
     "output_type": "stream",
     "text": [
      "<class 'pandas.core.frame.DataFrame'>\n",
      "Int64Index: 129971 entries, 0 to 129970\n",
      "Data columns (total 13 columns):\n",
      " #   Column                 Non-Null Count   Dtype  \n",
      "---  ------                 --------------   -----  \n",
      " 0   country                129908 non-null  object \n",
      " 1   description            129971 non-null  object \n",
      " 2   designation            92506 non-null   object \n",
      " 3   points                 129971 non-null  int64  \n",
      " 4   price                  120975 non-null  float64\n",
      " 5   province               129908 non-null  object \n",
      " 6   region_1               108724 non-null  object \n",
      " 7   region_2               50511 non-null   object \n",
      " 8   taster_name            103727 non-null  object \n",
      " 9   taster_twitter_handle  98758 non-null   object \n",
      " 10  title                  129971 non-null  object \n",
      " 11  variety                129970 non-null  object \n",
      " 12  winery                 129971 non-null  object \n",
      "dtypes: float64(1), int64(1), object(11)\n",
      "memory usage: 13.9+ MB\n"
     ]
    }
   ],
   "source": [
    "df.info()"
   ]
  },
  {
   "cell_type": "code",
   "execution_count": null,
   "metadata": {
    "id": "ZIQim-j1YXPD"
   },
   "outputs": [],
   "source": [
    "#Создадим новый датафрейм в который будем записывать распарсенные данные\n",
    "df_new=pd.DataFrame()"
   ]
  },
  {
   "cell_type": "code",
   "execution_count": null,
   "metadata": {
    "id": "FansoVooYXPE"
   },
   "outputs": [],
   "source": [
    "#Заполним недостающие данные самой частой категорией и поменем текст на цифры\n",
    "df['country'].fillna('US', inplace=True) \n",
    "uniq_country = df['country'].unique()\n",
    "dict_country = dict(zip(uniq_country, range(len(uniq_country))))\n",
    "df_new['country'] = df['country'].map(dict_country).values"
   ]
  },
  {
   "cell_type": "code",
   "execution_count": null,
   "metadata": {
    "id": "-vcetkAiYXPF"
   },
   "outputs": [],
   "source": [
    "#Столбец designation распрсим следующим образом. \n",
    "#0 - если в обозначении нет слова Reserve\n",
    "#1 - есть слово Reserve\n",
    "#Предполагаю, что вино Reserve должно стоить больше\n",
    "reserve = []\n",
    "for i in df['designation']:\n",
    "  if str(i) == 'nan':\n",
    "    reserve.append(0)  \n",
    "  elif 'Reserve' in i:\n",
    "    reserve.append(1)\n",
    "  else:\n",
    "    reserve.append(0)\n",
    "\n",
    "df_new['reserve'] = reserve"
   ]
  },
  {
   "cell_type": "code",
   "execution_count": null,
   "metadata": {
    "id": "WK-IKSo8YXPG"
   },
   "outputs": [],
   "source": [
    "#Заполним недостающие данные средним значением и нормализуем данные\n",
    "df['price'].fillna(df['price'].mean(), inplace=True)\n",
    "price_scaler=StandardScaler()\n",
    "price = price_scaler.fit_transform(df['price'].values.reshape(-1,1))\n",
    "df_new['price'] = price"
   ]
  },
  {
   "cell_type": "code",
   "execution_count": null,
   "metadata": {
    "id": "DAmUnqIYYXPG"
   },
   "outputs": [],
   "source": [
    "#Заполним недостающие данные новой категорией Unknown и заменим текст на цифры\n",
    "df['taster_name'].fillna('Unknown', inplace=True) \n",
    "uniq_name = df['taster_name'].unique()\n",
    "dict_name = dict(zip(uniq_name, range(len(uniq_name))))\n",
    "df_new['taster_name'] = df['taster_name'].map(dict_name).values"
   ]
  },
  {
   "cell_type": "code",
   "execution_count": null,
   "metadata": {
    "id": "neFYfWEXYXPH"
   },
   "outputs": [],
   "source": [
    "#Заполним недостающие данные категорией NA и поменяем текст на цифры\n",
    "df['variety'].fillna('NA', inplace=True) \n",
    "uniq_variety = df['variety'].unique()\n",
    "dict_variety = dict(zip(uniq_variety, range(len(uniq_variety))))\n",
    "df_new['variety'] = df['variety'].map(dict_variety).values"
   ]
  },
  {
   "cell_type": "code",
   "execution_count": null,
   "metadata": {
    "id": "RmLVxvo9YXPH"
   },
   "outputs": [],
   "source": [
    "#Закодируем категориальные данные с помощью OneHotEncoding\n",
    "x_data = pd.get_dummies(df_new, columns = ['country',\t'reserve', 'variety','taster_name'])"
   ]
  },
  {
   "cell_type": "code",
   "execution_count": null,
   "metadata": {
    "id": "48pXx04OYXPI"
   },
   "outputs": [],
   "source": [
    "#Заполним недостающие данные категорией No\n",
    "x_data['description'] = df['description']\n",
    "for i, j in enumerate(x_data['description']):\n",
    "  try: j.lower()\n",
    "  except: x_data.loc[i,'description'] = 'No'\n",
    "\n",
    "#нормализуем оценки критиков\n",
    "y = df['points']\n",
    "y_scaler = StandardScaler()\n",
    "x_data['y_scale'] = y_scaler.fit_transform(y.values.reshape(-1,1))\n"
   ]
  },
  {
   "cell_type": "code",
   "execution_count": null,
   "metadata": {
    "id": "25W4XtYvYXPI"
   },
   "outputs": [],
   "source": [
    "#Разделим выборку на обучающую и проверочную\n",
    "x_train, x_test, y_train, y_test = train_test_split(x_data.iloc[:,:-1], x_data.y_scale, shuffle=True, test_size=0.2)"
   ]
  },
  {
   "cell_type": "code",
   "execution_count": null,
   "metadata": {
    "id": "4Bka95plYXPJ"
   },
   "outputs": [],
   "source": [
    "# Отделим текстовые данные\n",
    "x_train_numeric = x_train.iloc[:,:-1]\n",
    "x_train_word = x_train.iloc[:,-1].values\n",
    "\n",
    "x_test_numeric = x_test.iloc[:,:-1]\n",
    "x_test_word = x_test.iloc[:,-1].values"
   ]
  },
  {
   "cell_type": "code",
   "execution_count": null,
   "metadata": {
    "id": "b5sPhPkWYXPJ"
   },
   "outputs": [],
   "source": [
    "#Создадим словарь и распарсим текстовые данные при помощи мешка слов\n",
    "max_word=3000\n",
    "tokenizer = Tokenizer(max_word, filters='!\"#$%&()*+,-./:;<=>?@[\\\\]^_`{|}~\\t\\n', lower=True, split=' ', char_level=False, oov_token='Unknown')\n",
    "tokenizer.fit_on_texts(x_train_word)\n",
    "\n",
    "x_train_vec = tokenizer.texts_to_matrix(x_train_word)\n",
    "x_test_vec = tokenizer.texts_to_matrix(x_test_word)"
   ]
  },
  {
   "cell_type": "code",
   "execution_count": null,
   "metadata": {
    "id": "EUWg1Yr_CKUw"
   },
   "outputs": [],
   "source": [
    "#Функция возвращает среднюю абсолютную ошибку и график scatter plot\n",
    "def mae_scatter_point(model, data):\n",
    "  pred = model.predict(data) \n",
    "  scaler_pred = y_scaler.inverse_transform(pred).flatten()\n",
    "  scaler_test = y_scaler.inverse_transform(y_test).flatten()\n",
    "\n",
    "  dif = scaler_test-scaler_pred\n",
    "  abs_dif = abs(dif)\n",
    "  sum_dif = sum(abs_dif)\n",
    "  print(\"MAE: \", sum_dif / len(scaler_test))\n",
    "\n",
    "  plt.scatter(scaler_pred, scaler_test)\n",
    "  plt.xlabel('Предсказаная цена, тыс.руб.')\n",
    "  plt.ylabel('Настоящая цена, тыс.руб.')\n",
    "  plt.plot([79, 100], [79, 100])\n"
   ]
  },
  {
   "cell_type": "code",
   "execution_count": null,
   "metadata": {
    "colab": {
     "base_uri": "https://localhost:8080/"
    },
    "id": "wAAW9EfhDEL-",
    "outputId": "75ca65d4-a196-474c-8cff-d06a81b6ab29"
   },
   "outputs": [
    {
     "name": "stdout",
     "output_type": "stream",
     "text": [
      "MAE:  2.4522792844777843\n"
     ]
    }
   ],
   "source": [
    "# Так как оценивать качество модели мы будем метрикой MAE, в качестве отправной точки можно использовать медианное значение тестовой выборки. \n",
    "# Посмотрим какое MAE получится, если вместо предсказанных значений подставить медиану\n",
    "scaler_test = y_scaler.inverse_transform(y_test).flatten()\n",
    "dif = scaler_test-np.median(scaler_test)\n",
    "abs_dif = abs(dif)\n",
    "sum_dif = sum(abs_dif)\n",
    "print(\"MAE: \", sum_dif / len(exp_test))"
   ]
  },
  {
   "cell_type": "code",
   "execution_count": null,
   "metadata": {
    "colab": {
     "base_uri": "https://localhost:8080/"
    },
    "id": "fUToOyfZFbVm",
    "outputId": "e322cbd8-b2a4-45bf-ad2b-a0404611bc7b"
   },
   "outputs": [
    {
     "name": "stdout",
     "output_type": "stream",
     "text": [
      "Epoch 1/20\n",
      "407/407 [==============================] - 5s 12ms/step - loss: 0.6471 - mae: 0.6333 - val_loss: 0.5550 - val_mae: 0.5902\n",
      "Epoch 2/20\n",
      "407/407 [==============================] - 4s 10ms/step - loss: 0.5563 - mae: 0.5881 - val_loss: 0.5511 - val_mae: 0.5841\n",
      "Epoch 3/20\n",
      "407/407 [==============================] - 5s 13ms/step - loss: 0.5341 - mae: 0.5758 - val_loss: 0.5419 - val_mae: 0.5816\n",
      "Epoch 4/20\n",
      "407/407 [==============================] - 4s 11ms/step - loss: 0.5392 - mae: 0.5777 - val_loss: 0.5413 - val_mae: 0.5836\n",
      "Epoch 5/20\n",
      "407/407 [==============================] - 4s 10ms/step - loss: 0.5338 - mae: 0.5746 - val_loss: 0.5385 - val_mae: 0.5822\n",
      "Epoch 6/20\n",
      "407/407 [==============================] - 4s 9ms/step - loss: 0.5329 - mae: 0.5742 - val_loss: 0.5354 - val_mae: 0.5775\n",
      "Epoch 7/20\n",
      "407/407 [==============================] - 5s 11ms/step - loss: 0.5258 - mae: 0.5693 - val_loss: 0.5377 - val_mae: 0.5786\n",
      "Epoch 8/20\n",
      "407/407 [==============================] - 4s 10ms/step - loss: 0.5254 - mae: 0.5687 - val_loss: 0.5370 - val_mae: 0.5806\n",
      "Epoch 9/20\n",
      "407/407 [==============================] - 4s 10ms/step - loss: 0.5252 - mae: 0.5682 - val_loss: 0.5361 - val_mae: 0.5782\n",
      "Epoch 10/20\n",
      "407/407 [==============================] - 4s 9ms/step - loss: 0.5197 - mae: 0.5647 - val_loss: 0.5383 - val_mae: 0.5786\n",
      "Epoch 11/20\n",
      "407/407 [==============================] - 4s 9ms/step - loss: 0.5216 - mae: 0.5667 - val_loss: 0.5369 - val_mae: 0.5767\n",
      "Epoch 12/20\n",
      "407/407 [==============================] - 4s 9ms/step - loss: 0.5215 - mae: 0.5648 - val_loss: 0.5331 - val_mae: 0.5754\n",
      "Epoch 13/20\n",
      "407/407 [==============================] - 5s 12ms/step - loss: 0.5183 - mae: 0.5640 - val_loss: 0.5345 - val_mae: 0.5774\n",
      "Epoch 14/20\n",
      "407/407 [==============================] - 4s 10ms/step - loss: 0.5171 - mae: 0.5622 - val_loss: 0.5323 - val_mae: 0.5757\n",
      "Epoch 15/20\n",
      "407/407 [==============================] - 4s 10ms/step - loss: 0.5141 - mae: 0.5608 - val_loss: 0.5373 - val_mae: 0.5786\n",
      "Epoch 16/20\n",
      "407/407 [==============================] - 4s 10ms/step - loss: 0.5155 - mae: 0.5622 - val_loss: 0.5307 - val_mae: 0.5738\n",
      "Epoch 17/20\n",
      "407/407 [==============================] - 4s 9ms/step - loss: 0.5141 - mae: 0.5610 - val_loss: 0.5317 - val_mae: 0.5760\n",
      "Epoch 18/20\n",
      "407/407 [==============================] - 5s 12ms/step - loss: 0.5111 - mae: 0.5585 - val_loss: 0.5322 - val_mae: 0.5739\n",
      "Epoch 19/20\n",
      "407/407 [==============================] - 4s 10ms/step - loss: 0.5121 - mae: 0.5601 - val_loss: 0.5342 - val_mae: 0.5773\n",
      "Epoch 20/20\n",
      "407/407 [==============================] - 4s 10ms/step - loss: 0.5100 - mae: 0.5581 - val_loss: 0.5313 - val_mae: 0.5746\n",
      "Epoch 1/10\n",
      "407/407 [==============================] - 5s 13ms/step - loss: 0.5096 - mae: 0.5578 - val_loss: 0.5317 - val_mae: 0.5743\n",
      "Epoch 2/10\n",
      "407/407 [==============================] - 4s 11ms/step - loss: 0.5086 - mae: 0.5574 - val_loss: 0.5326 - val_mae: 0.5762\n",
      "Epoch 3/10\n",
      "407/407 [==============================] - 4s 9ms/step - loss: 0.5080 - mae: 0.5568 - val_loss: 0.5311 - val_mae: 0.5741\n",
      "Epoch 4/10\n",
      "407/407 [==============================] - 4s 9ms/step - loss: 0.5072 - mae: 0.5564 - val_loss: 0.5353 - val_mae: 0.5756\n",
      "Epoch 5/10\n",
      "407/407 [==============================] - 4s 10ms/step - loss: 0.5065 - mae: 0.5556 - val_loss: 0.5339 - val_mae: 0.5737\n",
      "Epoch 6/10\n",
      "407/407 [==============================] - 4s 10ms/step - loss: 0.5056 - mae: 0.5555 - val_loss: 0.5335 - val_mae: 0.5734\n",
      "Epoch 7/10\n",
      "407/407 [==============================] - 4s 10ms/step - loss: 0.5065 - mae: 0.5555 - val_loss: 0.5332 - val_mae: 0.5743\n",
      "Epoch 8/10\n",
      "407/407 [==============================] - 4s 10ms/step - loss: 0.5047 - mae: 0.5544 - val_loss: 0.5321 - val_mae: 0.5737\n",
      "Epoch 9/10\n",
      "407/407 [==============================] - 4s 10ms/step - loss: 0.5050 - mae: 0.5544 - val_loss: 0.5332 - val_mae: 0.5744\n",
      "Epoch 10/10\n",
      "407/407 [==============================] - 5s 12ms/step - loss: 0.5042 - mae: 0.5543 - val_loss: 0.5325 - val_mae: 0.5739\n"
     ]
    },
    {
     "data": {
      "text/plain": [
       "<tensorflow.python.keras.callbacks.History at 0x7faf0d37e940>"
      ]
     },
     "execution_count": 91,
     "metadata": {
      "tags": []
     },
     "output_type": "execute_result"
    }
   ],
   "source": [
    "#Модель только с числовыми значениями\n",
    "model_num=Sequential()\n",
    "model_num.add(Dense(200, activation=\"relu\", input_dim=x_train_numeric.shape[1]))\n",
    "# model_num.add(BatchNormalization())\n",
    "model_num.add(Dense(100, activation=\"relu\"))\n",
    "# model_num.add(Dense(50, activation=\"relu\"))\n",
    "model_num.add(Dense(1, activation=\"linear\"))\n",
    "model_num.compile(loss='mse', optimizer=Adam(lr=0.001), metrics=['mae'])\n",
    "model_num.fit(x_train_numeric, y_train, epochs=20, batch_size=256, validation_data=(x_test_numeric, y_test), verbose=1)\n",
    "\n",
    "model.compile(loss='mse', optimizer=Adam(lr=0.0001), metrics=['mae'])\n",
    "model_num.fit(x_train_numeric, y_train, epochs=10, batch_size=256, validation_data=(x_test_numeric, y_test), verbose=1)"
   ]
  },
  {
   "cell_type": "code",
   "execution_count": null,
   "metadata": {
    "colab": {
     "base_uri": "https://localhost:8080/",
     "height": 296
    },
    "id": "27tfh_ULYXPL",
    "outputId": "4099560f-a245-4e31-d971-ec729f44a756"
   },
   "outputs": [
    {
     "name": "stdout",
     "output_type": "stream",
     "text": [
      "MAE:  1.7443544121104082\n"
     ]
    },
    {
     "data": {
      "image/png": "[encoded data removed]",
      "text/plain": [
       "<Figure size 432x288 with 1 Axes>"
      ]
     },
     "metadata": {
      "tags": []
     },
     "output_type": "display_data"
    }
   ],
   "source": [
    "mae_scatter_point(model_num, x_test_numeric)"
   ]
  },
  {
   "cell_type": "code",
   "execution_count": null,
   "metadata": {
    "colab": {
     "base_uri": "https://localhost:8080/"
    },
    "id": "Wf_t7vuW9C2T",
    "outputId": "c026fbf9-00a4-4ad7-fbd4-e79841d85eff"
   },
   "outputs": [
    {
     "name": "stdout",
     "output_type": "stream",
     "text": [
      "Epoch 1/10\n",
      "407/407 [==============================] - 18s 43ms/step - loss: 0.0089 - mae: 0.0710 - val_loss: 0.2492 - val_mae: 0.3733\n",
      "Epoch 2/10\n",
      "407/407 [==============================] - 19s 47ms/step - loss: 0.0043 - mae: 0.0490 - val_loss: 0.2493 - val_mae: 0.3721\n",
      "Epoch 3/10\n",
      "407/407 [==============================] - 19s 47ms/step - loss: 0.0025 - mae: 0.0368 - val_loss: 0.2489 - val_mae: 0.3706\n",
      "Epoch 4/10\n",
      "407/407 [==============================] - 17s 43ms/step - loss: 0.0014 - mae: 0.0276 - val_loss: 0.2486 - val_mae: 0.3696\n",
      "Epoch 5/10\n",
      "407/407 [==============================] - 17s 43ms/step - loss: 8.0883e-04 - mae: 0.0206 - val_loss: 0.2489 - val_mae: 0.3692\n",
      "Epoch 6/10\n",
      "407/407 [==============================] - 21s 52ms/step - loss: 4.8988e-04 - mae: 0.0151 - val_loss: 0.2487 - val_mae: 0.3686\n",
      "Epoch 7/10\n",
      "407/407 [==============================] - 17s 43ms/step - loss: 2.9872e-04 - mae: 0.0110 - val_loss: 0.2488 - val_mae: 0.3682\n",
      "Epoch 8/10\n",
      "407/407 [==============================] - 19s 46ms/step - loss: 1.9710e-04 - mae: 0.0079 - val_loss: 0.2489 - val_mae: 0.3680\n",
      "Epoch 9/10\n",
      "407/407 [==============================] - 19s 47ms/step - loss: 1.1984e-04 - mae: 0.0057 - val_loss: 0.2489 - val_mae: 0.3679\n",
      "Epoch 10/10\n",
      "407/407 [==============================] - 17s 43ms/step - loss: 8.1786e-05 - mae: 0.0042 - val_loss: 0.2489 - val_mae: 0.3678\n"
     ]
    },
    {
     "data": {
      "text/plain": [
       "<tensorflow.python.keras.callbacks.History at 0x7faf0c0fefd0>"
      ]
     },
     "execution_count": 70,
     "metadata": {
      "tags": []
     },
     "output_type": "execute_result"
    }
   ],
   "source": [
    "#Модель только с текстовыми значениями\n",
    "input_vec = Input(x_train_vec.shape[1],)\n",
    "x = Dense(500, activation='relu')(input_vec)\n",
    "# x = Dropout(0.2)(x)\n",
    "# x = BatchNormalization()(x)\n",
    "x = Dense(100, activation='relu')(x)\n",
    "# x = BatchNormalization()(x)\n",
    "output = Dense(1)(x)\n",
    "model_vec = Model(input_vec,output)\n",
    "\n",
    "model_vec.compile(loss='mse', optimizer=Adam(lr=0.001), metrics=['mae'])\n",
    "model_vec.fit(x_train_vec, y_train, epochs=20, batch_size=256, validation_data=(x_test_vec, y_test), verbose=1)\n",
    "\n",
    "model_vec.compile(loss='mse', optimizer=Adam(lr=0.0001), metrics=['mae'])\n",
    "model_vec.fit(x_train_vec, y_train, epochs=10, batch_size=256, validation_data=(x_test_vec, y_test), verbose=1)"
   ]
  },
  {
   "cell_type": "code",
   "execution_count": null,
   "metadata": {
    "colab": {
     "base_uri": "https://localhost:8080/",
     "height": 296
    },
    "id": "-K2Nc7by9Crn",
    "outputId": "d199c8be-c4e9-408e-b91e-eef9c74bc6f3"
   },
   "outputs": [
    {
     "name": "stdout",
     "output_type": "stream",
     "text": [
      "MAE:  1.1180965751564302\n"
     ]
    },
    {
     "data": {
      "image/png": "[encoded data removed]",
      "text/plain": [
       "<Figure size 432x288 with 1 Axes>"
      ]
     },
     "metadata": {
      "tags": []
     },
     "output_type": "display_data"
    }
   ],
   "source": [
    "mae_scatter_point(model_vec, x_test_vec)"
   ]
  },
  {
   "cell_type": "code",
   "execution_count": null,
   "metadata": {
    "colab": {
     "base_uri": "https://localhost:8080/"
    },
    "id": "SITc2iF3YWnr",
    "outputId": "309a5eb0-a5d5-4f0e-fb96-10588421e6a9"
   },
   "outputs": [
    {
     "name": "stdout",
     "output_type": "stream",
     "text": [
      "Epoch 1/10\n",
      "407/407 [==============================] - 23s 54ms/step - loss: 0.0196 - mae: 0.1018 - val_loss: 0.2006 - val_mae: 0.3330\n",
      "Epoch 2/10\n",
      "407/407 [==============================] - 21s 53ms/step - loss: 0.0197 - mae: 0.1023 - val_loss: 0.2009 - val_mae: 0.3330\n",
      "Epoch 3/10\n",
      "407/407 [==============================] - 22s 53ms/step - loss: 0.0191 - mae: 0.1003 - val_loss: 0.1999 - val_mae: 0.3327\n",
      "Epoch 4/10\n",
      "407/407 [==============================] - 22s 54ms/step - loss: 0.0191 - mae: 0.1002 - val_loss: 0.1999 - val_mae: 0.3320\n",
      "Epoch 5/10\n",
      "407/407 [==============================] - 21s 51ms/step - loss: 0.0191 - mae: 0.1002 - val_loss: 0.2016 - val_mae: 0.3335\n",
      "Epoch 6/10\n",
      "407/407 [==============================] - 21s 51ms/step - loss: 0.0193 - mae: 0.1006 - val_loss: 0.1992 - val_mae: 0.3312\n",
      "Epoch 7/10\n",
      "407/407 [==============================] - 22s 53ms/step - loss: 0.0183 - mae: 0.0978 - val_loss: 0.2004 - val_mae: 0.3323\n",
      "Epoch 8/10\n",
      "407/407 [==============================] - 22s 53ms/step - loss: 0.0187 - mae: 0.0981 - val_loss: 0.2000 - val_mae: 0.3315\n",
      "Epoch 9/10\n",
      "407/407 [==============================] - 22s 55ms/step - loss: 0.0183 - mae: 0.0970 - val_loss: 0.2014 - val_mae: 0.3327\n",
      "Epoch 10/10\n",
      "407/407 [==============================] - 20s 50ms/step - loss: 0.0184 - mae: 0.0973 - val_loss: 0.1996 - val_mae: 0.3312\n"
     ]
    },
    {
     "data": {
      "text/plain": [
       "<tensorflow.python.keras.callbacks.History at 0x7f5c0328bfd0>"
      ]
     },
     "execution_count": 22,
     "metadata": {
      "tags": []
     },
     "output_type": "execute_result"
    }
   ],
   "source": [
    "#Создадим модель со всеми данными\n",
    "input_num = Input(x_train_numeric.shape[1],)\n",
    "input_vec = Input(x_train_vec.shape[1],)\n",
    "x1 = Dense(200, activation='relu')(input_num)\n",
    "x2 = Dense(500, activation='relu')(input_vec)\n",
    "x = concatenate([x1,x2])\n",
    "\n",
    "x = Dense(100, activation='relu')(x)\n",
    "x = Dense(50, activation='relu')(x)\n",
    "# x = Dense(20, activation='relu')(x)\n",
    "x = Dropout(0.2)(x)\n",
    "# x = BatchNormalization()(x)\n",
    "output = Dense(1)(x)\n",
    "model = Model((input_num,input_vec),output)\n",
    "\n",
    "model.compile(loss='mse', optimizer=Adam(lr=0.001), metrics=['mae'])\n",
    "model.fit([x_train_numeric, x_train_vec], y_train, epochs=20, batch_size=256, validation_data=([x_test_numeric,x_test_vec], y_test), verbose=1)\n",
    "\n",
    "model.compile(loss='mse', optimizer=Adam(lr=0.001), metrics=['mae'])\n",
    "model.fit([x_train_numeric, x_train_vec], y_train, epochs=10, batch_size=256, validation_data=([x_test_numeric,x_test_vec], y_test), verbose=1)"
   ]
  },
  {
   "cell_type": "code",
   "execution_count": null,
   "metadata": {
    "colab": {
     "base_uri": "https://localhost:8080/",
     "height": 296
    },
    "id": "l5fPr6am9mO4",
    "outputId": "4519509e-c764-45e2-8d9a-f497b7004e8f"
   },
   "outputs": [
    {
     "name": "stdout",
     "output_type": "stream",
     "text": [
      "MAE:  1.0066432699741688\n"
     ]
    },
    {
     "data": {
      "image/png": "[encoded data removed]",
      "text/plain": [
       "<Figure size 432x288 with 1 Axes>"
      ]
     },
     "metadata": {
      "tags": []
     },
     "output_type": "display_data"
    }
   ],
   "source": [
    "mae_scatter_point(model, [x_test_numeric,x_test_vec])"
   ]
  },
  {
   "cell_type": "markdown",
   "metadata": {
    "id": "ZC9ia87cX2x2"
   },
   "source": [
    "Можно было еще попробовать немного улучшить качество, но блокнот вылетает из-за ограничений памяти. В целом мы получили хороший результат, более чем в два раза улучшив модель с константным значением."
   ]
  },
  {
   "cell_type": "markdown",
   "metadata": {
    "id": "bBnMEpOaa2GV"
   },
   "source": [
    "Ради интереса попробуем решить эту задачу с помощью классификации"
   ]
  },
  {
   "cell_type": "code",
   "execution_count": null,
   "metadata": {
    "id": "Ju_GoDJ0hJj7"
   },
   "outputs": [],
   "source": [
    "#Закодируем категориальные данные с помощью OneHotEncoding\n",
    "x_data = pd.get_dummies(df_new, columns = ['country',\t'reserve', 'variety','taster_name'])"
   ]
  },
  {
   "cell_type": "code",
   "execution_count": null,
   "metadata": {
    "id": "DotC8ETlhJj8"
   },
   "outputs": [],
   "source": [
    "#Заполним недостающие данные категорией No\n",
    "x_data['description'] = df['description']\n",
    "for i, j in enumerate(x_data['description']):\n",
    "  try: j.lower()\n",
    "  except: x_data.loc[i,'description'] = 'No'\n",
    "\n",
    "#нормализуем оценки критиков\n",
    "x_data['y_scale'] = df['points'].values - 80\n"
   ]
  },
  {
   "cell_type": "code",
   "execution_count": null,
   "metadata": {
    "id": "VHarEMyPhJj8"
   },
   "outputs": [],
   "source": [
    "#Разделим выборку на обучающую и проверочную\n",
    "x_train, x_test, y_train, y_test = train_test_split(x_data.iloc[:,:-1], x_data.y_scale, shuffle=True, test_size=0.2)"
   ]
  },
  {
   "cell_type": "code",
   "execution_count": null,
   "metadata": {
    "id": "klwg160xhJj9"
   },
   "outputs": [],
   "source": [
    "# Отделим текстовые данные\n",
    "x_train_numeric = x_train.iloc[:,:-1]\n",
    "x_train_word = x_train.iloc[:,-1].values\n",
    "\n",
    "x_test_numeric = x_test.iloc[:,:-1]\n",
    "x_test_word = x_test.iloc[:,-1].values"
   ]
  },
  {
   "cell_type": "code",
   "execution_count": null,
   "metadata": {
    "id": "oM4fXBAFha5F"
   },
   "outputs": [],
   "source": [
    "from tensorflow.keras.utils import to_categorical\n",
    "y_train1 = to_categorical(y_train, 21)\n",
    "y_test1 = to_categorical(y_test, 21)"
   ]
  },
  {
   "cell_type": "code",
   "execution_count": null,
   "metadata": {
    "id": "M7M4Qw5shJj9"
   },
   "outputs": [],
   "source": [
    "#Создадим словарь и распарсим текстовые данные при помощи мешка слов\n",
    "max_word=3000\n",
    "tokenizer = Tokenizer(max_word, filters='!\"#$%&()*+,-./:;<=>?@[\\\\]^_`{|}~\\t\\n', lower=True, split=' ', char_level=False, oov_token='Unknown')\n",
    "tokenizer.fit_on_texts(x_train_word)\n",
    "\n",
    "x_train_vec = tokenizer.texts_to_matrix(x_train_word)\n",
    "x_test_vec = tokenizer.texts_to_matrix(x_test_word)"
   ]
  },
  {
   "cell_type": "code",
   "execution_count": null,
   "metadata": {
    "colab": {
     "base_uri": "https://localhost:8080/"
    },
    "id": "rtzG2lYy9l_8",
    "outputId": "53f63bc4-628e-490b-fdb8-6e8e767c37fd"
   },
   "outputs": [
    {
     "name": "stdout",
     "output_type": "stream",
     "text": [
      "Epoch 1/5\n",
      "407/407 [==============================] - 19s 46ms/step - loss: 0.0352 - accuracy: 0.9936 - val_loss: 5.2294 - val_accuracy: 0.3515\n",
      "Epoch 2/5\n",
      "407/407 [==============================] - 18s 44ms/step - loss: 0.0143 - accuracy: 0.9989 - val_loss: 5.3682 - val_accuracy: 0.3515\n",
      "Epoch 3/5\n",
      "407/407 [==============================] - 18s 44ms/step - loss: 0.0093 - accuracy: 0.9995 - val_loss: 5.5321 - val_accuracy: 0.3524\n",
      "Epoch 4/5\n",
      "407/407 [==============================] - 18s 44ms/step - loss: 0.0068 - accuracy: 0.9996 - val_loss: 5.6302 - val_accuracy: 0.3525\n",
      "Epoch 5/5\n",
      "407/407 [==============================] - 18s 44ms/step - loss: 0.0053 - accuracy: 0.9998 - val_loss: 5.7462 - val_accuracy: 0.3521\n"
     ]
    },
    {
     "data": {
      "text/plain": [
       "<tensorflow.python.keras.callbacks.History at 0x7f24ad5e2b00>"
      ]
     },
     "execution_count": 20,
     "metadata": {
      "tags": []
     },
     "output_type": "execute_result"
    }
   ],
   "source": [
    "#Создадим модель со всеми данными\n",
    "input_num = Input(x_train_numeric.shape[1],)\n",
    "input_vec = Input(x_train_vec.shape[1],)\n",
    "x1 = Dense(200, activation='relu')(input_num)\n",
    "x2 = Dense(500, activation='relu')(input_vec)\n",
    "x = concatenate([x1,x2])\n",
    "# x = Dense(100, activation='relu')(x)\n",
    "# x = BatchNormalization()(x)\n",
    "x = Dense(100, activation='relu')(x)\n",
    "x = Dense(50, activation='relu')(x)\n",
    "# x = Dropout(0.2)(x)\n",
    "# x = BatchNormalization()(x)\n",
    "output = Dense(21, activation='softmax')(x)\n",
    "model = Model((input_num,input_vec),output)\n",
    "\n",
    "model.compile(loss='categorical_crossentropy', optimizer=Adam(lr=0.001), metrics=['accuracy'])\n",
    "model.fit([x_train_numeric, x_train_vec], y_train1, epochs=10, batch_size=256, validation_data=([x_test_numeric,x_test_vec], y_test1), verbose=1)"
   ]
  },
  {
   "cell_type": "code",
   "execution_count": null,
   "metadata": {
    "colab": {
     "base_uri": "https://localhost:8080/",
     "height": 313
    },
    "id": "IHBu7J_29l9L",
    "outputId": "1a870229-be01-43bf-d905-cc0c31451e85"
   },
   "outputs": [
    {
     "name": "stdout",
     "output_type": "stream",
     "text": [
      "MAE:  1.1262935179842277\n"
     ]
    },
    {
     "data": {
      "text/plain": [
       "[<matplotlib.lines.Line2D at 0x7f24b8d4b8d0>]"
      ]
     },
     "execution_count": 21,
     "metadata": {
      "tags": []
     },
     "output_type": "execute_result"
    },
    {
     "data": {
      "image/png": "[encoded data removed]",
      "text/plain": [
       "<Figure size 432x288 with 1 Axes>"
      ]
     },
     "metadata": {
      "needs_background": "light",
      "tags": []
     },
     "output_type": "display_data"
    }
   ],
   "source": [
    "pred = model.predict([x_test_numeric,x_test_vec]) \n",
    "\n",
    "cat_pred=[]\n",
    "for i in pred:\n",
    "  cat_pred.append(np.argmax(i))\n",
    "\n",
    "scaler_pred = np.array(cat_pred)+80\n",
    "scaler_test = y_test + 80\n",
    "\n",
    "dif = scaler_test-scaler_pred\n",
    "abs_dif = abs(dif)\n",
    "sum_dif = sum(abs_dif)\n",
    "print(\"MAE: \", sum_dif / len(scaler_test))\n",
    "\n",
    "plt.scatter(scaler_pred, scaler_test)\n",
    "plt.xlabel('Предсказаная цена, тыс.руб.')\n",
    "plt.ylabel('Настоящая цена, тыс.руб.')\n",
    "plt.plot([79, 100], [79, 100])"
   ]
  },
  {
   "cell_type": "markdown",
   "metadata": {
    "id": "NzSfywN2Eovh"
   },
   "source": [
    "Вывод: В ходе экспериментов было обучено много разных моделей. Во всех случаях модели с числовыми и текстовыми данными показали себя лучше всего. Нам удалось обучить модели, которые предсказывают значения значимо лучше чем константные значения. Теория о том, что оценки критиков лучше предсказывать с помощью классификации не оправдалась, но значение MAE получилось достаточно близкое.  "
   ]
  },
  {
   "cell_type": "markdown",
   "metadata": {
    "id": "KepXF3T0F_x2"
   },
   "source": [
    "Варианты улучшения модели:\n",
    "1) Получше очистить входные данные, поэкспериментировать с различными вариантами парсинга, попробовать разное заполнение пропусков (возможно удаление строк где есть пропуски), как-то добавить неучтенные признаки.  \n",
    "2) Попробовать обработать текстовые признаки с помощью эмбедингов и обучить LSTM модель."
   ]
  },
  {
   "cell_type": "code",
   "execution_count": null,
   "metadata": {
    "id": "wivxTCEz9l6l"
   },
   "outputs": [],
   "source": [
    "\n"
   ]
  }
 ],
 "metadata": {
  "colab": {
   "collapsed_sections": [],
   "name": "Решение задачи регрессии Ultra Pro.ipynb",
   "provenance": []
  },
  "kernelspec": {
   "display_name": "Python 3",
   "language": "python",
   "name": "python3"
  },
  "language_info": {
   "codemirror_mode": {
    "name": "ipython",
    "version": 3
   },
   "file_extension": ".py",
   "mimetype": "text/x-python",
   "name": "python",
   "nbconvert_exporter": "python",
   "pygments_lexer": "ipython3",
   "version": "3.7.3"
  }
 },
 "nbformat": 4,
 "nbformat_minor": 1
}
